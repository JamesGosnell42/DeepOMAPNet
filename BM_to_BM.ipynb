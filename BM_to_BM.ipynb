{
 "cells": [
  {
   "cell_type": "code",
   "execution_count": 2,
   "metadata": {},
   "outputs": [
    {
     "name": "stderr",
     "output_type": "stream",
     "text": [
      "/work/vanaja_lab/satya/envs/scipennenv/lib/python3.10/site-packages/tqdm/auto.py:21: TqdmWarning: IProgress not found. Please update jupyter and ipywidgets. See https://ipywidgets.readthedocs.io/en/stable/user_install.html\n",
      "  from .autonotebook import tqdm as notebook_tqdm\n",
      "2025-04-23 19:42:48.312736: E external/local_xla/xla/stream_executor/cuda/cuda_fft.cc:467] Unable to register cuFFT factory: Attempting to register factory for plugin cuFFT when one has already been registered\n",
      "WARNING: All log messages before absl::InitializeLog() is called are written to STDERR\n",
      "E0000 00:00:1745451768.428482   10701 cuda_dnn.cc:8579] Unable to register cuDNN factory: Attempting to register factory for plugin cuDNN when one has already been registered\n",
      "E0000 00:00:1745451768.450901   10701 cuda_blas.cc:1407] Unable to register cuBLAS factory: Attempting to register factory for plugin cuBLAS when one has already been registered\n",
      "W0000 00:00:1745451768.625819   10701 computation_placer.cc:177] computation placer already registered. Please check linkage and avoid linking the same target more than once.\n",
      "W0000 00:00:1745451768.625859   10701 computation_placer.cc:177] computation placer already registered. Please check linkage and avoid linking the same target more than once.\n",
      "W0000 00:00:1745451768.625862   10701 computation_placer.cc:177] computation placer already registered. Please check linkage and avoid linking the same target more than once.\n",
      "W0000 00:00:1745451768.625864   10701 computation_placer.cc:177] computation placer already registered. Please check linkage and avoid linking the same target more than once.\n",
      "2025-04-23 19:42:48.633793: I tensorflow/core/platform/cpu_feature_guard.cc:210] This TensorFlow binary is optimized to use available CPU instructions in performance-critical operations.\n",
      "To enable the following instructions: AVX2 FMA, in other operations, rebuild TensorFlow with the appropriate compiler flags.\n"
     ]
    }
   ],
   "source": [
    "%load_ext autoreload\n",
    "%autoreload 2\n",
    "\n",
    "import numpy as np\n",
    "from matplotlib import pyplot\n",
    "import os\n",
    "from copy import deepcopy\n",
    "\n",
    "\n",
    "from time import time\n",
    "\n",
    "from math import ceil\n",
    "from scipy.stats import spearmanr, gamma, poisson\n",
    "import scipy.sparse as sp\n",
    "from scipy.io import mmread\n",
    "\n",
    "from anndata import AnnData, read_h5ad\n",
    "import scanpy as sc\n",
    "from scanpy import read\n",
    "import pandas as pd\n",
    "\n",
    "from torch.utils.data import DataLoader, TensorDataset\n",
    "from torch import tensor\n",
    "from torch.cuda import is_available\n",
    "import importlib\n",
    "import sys\n",
    "import umap\n",
    "\n"
   ]
  },
  {
   "cell_type": "code",
   "execution_count": 7,
   "metadata": {},
   "outputs": [],
   "source": [
    "# Add the src directory to the Python path\n",
    "sys.path.append(os.path.abspath('/work/vanaja_lab/satya/DEEPOMAPNET/DONET/'))\n",
    "\n",
    "# Import the sciPENN_API module\n",
    "import DONET.DONET_API\n",
    "import DONET.Preprocessing\n",
    "\n",
    "# Reload the module to ensure the latest changes are reflected\n",
    "# importlib.reload(SCIPENN.sciPENN_API)\n",
    "\n",
    "from DONET.DONET_API import DONET_API\n",
    "from DONET.Preprocessing import preprocess\n"
   ]
  },
  {
   "cell_type": "code",
   "execution_count": 11,
   "metadata": {},
   "outputs": [],
   "source": [
    "from DONET.Utils import build_dir\n",
    "from DONET.Preprocessing import preprocess\n",
    "from DONET.Data_Infrastructure.DataLoader_Constructor import build_dataloaders\n",
    "from DONET.Network.DONET import DONET_Model\n",
    "from DONET.Network.Losses import cross_entropy, sse_quantile, no_loss"
   ]
  },
  {
   "cell_type": "code",
   "execution_count": 12,
   "metadata": {},
   "outputs": [],
   "source": [
    "GSM_Controls_RNA = sc.read_h5ad('/work/vanaja_lab/satya/R/SatyaPackrat/GSMControlRNA.h5ad')\n",
    "GSM_Controls_ADT = sc.read_h5ad('/work/vanaja_lab/satya/R/SatyaPackrat/ControlADT.h5ad')\n"
   ]
  },
  {
   "cell_type": "code",
   "execution_count": 13,
   "metadata": {},
   "outputs": [],
   "source": [
    "GSM_AML_RNA_A = sc.read_h5ad('/work/vanaja_lab/satya/R/SatyaPackrat/AMLARNA.h5ad')\n",
    "GSM_AML_ADT_A = sc.read_h5ad('/work/vanaja_lab/satya/R/SatyaPackrat/AMLAADT.h5ad')"
   ]
  },
  {
   "cell_type": "code",
   "execution_count": 14,
   "metadata": {},
   "outputs": [],
   "source": [
    "GSM_AML_RNA_B = sc.read_h5ad('/work/vanaja_lab/satya/R/SatyaPackrat/AMLBRNA.h5ad')\n",
    "GSM_AML_ADT_B = sc.read_h5ad('/work/vanaja_lab/satya/R/SatyaPackrat/AMLBADT.h5ad')"
   ]
  },
  {
   "cell_type": "code",
   "execution_count": 15,
   "metadata": {},
   "outputs": [
    {
     "name": "stdout",
     "output_type": "stream",
     "text": [
      "All sample IDs in gene data: ['AML0612' 'AML3762' 'AML3133' 'AML2910' 'AML3050' 'AML2451' 'AML056'\n",
      " 'AML073' 'AML055' 'AML048' 'AML052' 'AML2123' 'AML1371' 'AML4340'\n",
      " 'AML4897' 'AML051' 'AML0693' 'AML3948' 'AML3730' 'AML0160' 'AML0310'\n",
      " 'AML0361' 'AML038' 'AML008' 'AML043' 'AML028' 'AML006' 'AML025' 'AML003'\n",
      " 'AML012' 'AML005' 'AML0048' 'AML022' 'AML0024' 'AML009' 'AML026' 'AML001'\n",
      " 'AML0114' 'Control4' 'Control2' 'Control1' 'Control3' 'Control5'\n",
      " 'Control0004' 'Control0058' 'Control0082' 'Control4003' 'Control0005']\n",
      "Train cells: 90211 | Test cells: 20486\n"
     ]
    }
   ],
   "source": [
    "import anndata\n",
    "\n",
    "# Concatenate gene data\n",
    "adata_gene = anndata.concat(\n",
    "    [GSM_AML_RNA_B, GSM_AML_RNA_A, GSM_Controls_RNA],\n",
    "    join='outer',\n",
    "    label='source',\n",
    "    keys=['GSM_AML_RNA_B', 'GSM_AML_RNA_A', 'GSM_Controls_RNA']\n",
    ")\n",
    "\n",
    "# Concatenate protein data\n",
    "adata_protein = anndata.concat(\n",
    "    [GSM_Controls_ADT, GSM_AML_ADT_A, GSM_AML_ADT_B],\n",
    "    join='outer',\n",
    "    label='source',\n",
    "    keys=['GSM_Controls_ADT', 'GSM_AML_ADT_A', 'GSM_AML_ADT_B']\n",
    ")\n",
    "\n",
    "# Inspect sample IDs in the gene data (adjust the key if needed)\n",
    "print(\"All sample IDs in gene data:\", adata_gene.obs['samples'].unique())\n",
    "\n",
    "# Define your training samples exactly as they appear\n",
    "train_samples = [\n",
    "    'AML0612', 'AML3133', 'AML2910', 'AML3050',\n",
    "    'AML073', 'AML055', 'AML048', 'AML2123', 'AML1371',\n",
    "    'AML4897', 'AML3948', 'AML0160', 'AML0310',\n",
    "    'AML0361', 'AML043', 'AML028', 'AML006',\n",
    "    'AML012', 'AML005', 'AML0048', 'AML022', 'AML0024', 'AML026',\n",
    "    'AML0114', 'Control4', 'Control2', 'Control3', 'Control5',\n",
    "    'Control0004', 'Control0058', 'Control0082', 'Control4003'\n",
    "]\n",
    "\n",
    "# Build a boolean mask for training cells based on 'samples'\n",
    "train_mask = adata_gene.obs['samples'].isin(train_samples)\n",
    "assert train_mask.sum() > 0, f\"No cells matched {train_samples}! Check your sample names.\"\n",
    "\n",
    "# Subset the gene and protein AnnData objects for training and test sets\n",
    "adata_gene_train = adata_gene[train_mask].copy()\n",
    "adata_protein_train = adata_protein[train_mask].copy()\n",
    "adata_gene_test = adata_gene[~train_mask].copy()\n",
    "adata_protein_test = adata_protein[~train_mask].copy()\n",
    "\n",
    "# For both training and test sets, align cell IDs by taking the intersection and sorting\n",
    "def align_obs(gene_data, protein_data):\n",
    "    common_cells = sorted(set(gene_data.obs_names).intersection(set(protein_data.obs_names)))\n",
    "    gene_data_aligned = gene_data[common_cells].copy()\n",
    "    protein_data_aligned = protein_data[common_cells].copy()\n",
    "    assert all(gene_data_aligned.obs_names == protein_data_aligned.obs_names), \"Cell IDs do not match after alignment!\"\n",
    "    return gene_data_aligned, protein_data_aligned\n",
    "\n",
    "adata_gene_train, adata_protein_train = align_obs(adata_gene_train, adata_protein_train)\n",
    "adata_gene_test, adata_protein_test = align_obs(adata_gene_test, adata_protein_test)\n",
    "\n",
    "print(\"Train cells:\", adata_gene_train.n_obs, \"| Test cells:\", adata_gene_test.n_obs)\n",
    "\n",
    "\n"
   ]
  },
  {
   "cell_type": "code",
   "execution_count": 16,
   "metadata": {},
   "outputs": [],
   "source": [
    "doublet_bool = (GSM_Controls_RNA.obs['Cell_type_identity'] != 'Doublet')\n",
    "adata_gene = GSM_Controls_RNA[doublet_bool].copy()\n",
    "adata_protein = GSM_Controls_ADT[doublet_bool].copy()"
   ]
  },
  {
   "cell_type": "code",
   "execution_count": 17,
   "metadata": {},
   "outputs": [],
   "source": [
    "# Convert data matrices to float32 if needed\n",
    "adata_gene_train.X = adata_gene_train.X.astype('float32')\n",
    "adata_protein_train.X = adata_protein_train.X.astype('float32')\n",
    "adata_gene_test.X = adata_gene_test.X.astype('float32')\n",
    "adata_protein_test.X = adata_protein_test.X.astype('float32')"
   ]
  },
  {
   "cell_type": "code",
   "execution_count": 18,
   "metadata": {},
   "outputs": [
    {
     "name": "stdout",
     "output_type": "stream",
     "text": [
      "Searching for GPU\n",
      "GPU not detected, falling back to CPU\n",
      "\n",
      "QC Filtering Training Cells\n",
      "QC Filtering Testing Cells\n",
      "\n",
      "QC Filtering Training Genes\n",
      "QC Filtering Testing Genes\n",
      "\n",
      "Normalizing Training Cells\n",
      "Normalizing Testing Cells\n",
      "\n",
      "Log-Normalizing Training Data\n",
      "Log-Normalizing Testing Data\n",
      "\n",
      "Finding HVGs\n"
     ]
    },
    {
     "name": "stderr",
     "output_type": "stream",
     "text": [
      "/work/vanaja_lab/satya/DeepOMAPNet/DONET/Preprocessing.py:137: FutureWarning: Use anndata.concat instead of AnnData.concatenate, AnnData.concatenate is deprecated and will be removed in the future. See the tutorial for concat at: https://anndata.readthedocs.io/en/latest/concatenation.html\n",
      "  tmp = gene_train.concatenate(gene_test, batch_key=None).copy()\n"
     ]
    },
    {
     "name": "stdout",
     "output_type": "stream",
     "text": [
      "\n",
      "Normalizing Gene Training Data by Batch\n"
     ]
    },
    {
     "name": "stderr",
     "output_type": "stream",
     "text": [
      "100%|██████████| 30/30 [00:02<00:00, 14.28it/s]\n"
     ]
    },
    {
     "name": "stdout",
     "output_type": "stream",
     "text": [
      "\n",
      "Normalizing Protein Training Data by Batch\n"
     ]
    },
    {
     "name": "stderr",
     "output_type": "stream",
     "text": [
      "100%|██████████| 30/30 [00:01<00:00, 25.79it/s]\n"
     ]
    },
    {
     "name": "stdout",
     "output_type": "stream",
     "text": [
      "\n",
      "Normalizing Gene Testing Data by Batch\n"
     ]
    },
    {
     "name": "stderr",
     "output_type": "stream",
     "text": [
      "100%|██████████| 12/12 [00:00<00:00, 24.29it/s]\n"
     ]
    }
   ],
   "source": [
    "# Define the required parameters\n",
    "gene_trainsets =  [adata_gene_train] # Your gene training datasets\n",
    "protein_trainsets = [adata_protein_train]  # Your protein training datasets\n",
    "gene_test = adata_gene_test  # Optional gene test datasets\n",
    "gene_list = []  # Your list of genes\n",
    "train_batchkeys = ['samples']\n",
    "test_batchkey = 'samples'\n",
    "select_hvg = True\n",
    "type_key = 'aml'\n",
    "cell_normalize = True\n",
    "log_normalize = True\n",
    "gene_normalize = True\n",
    "min_cells = 3\n",
    "min_genes = 20\n",
    "batch_size = 128\n",
    "val_split = 0.1\n",
    "use_gpu = True\n",
    "\n",
    "# Create an instance of the sciPENN_API class\n",
    "DONET = DONET_API(\n",
    "    gene_trainsets=[adata_gene_train], \n",
    "    protein_trainsets=[adata_protein_train], \n",
    "    gene_test=adata_gene_test,\n",
    "    gene_list=[],\n",
    "    train_batchkeys = ['samples'],\n",
    "    test_batchkey = 'samples',\n",
    "    select_hvg=True,\n",
    "    type_key= 'aml', \n",
    "    cell_normalize=True,\n",
    "    log_normalize=True,\n",
    "    gene_normalize=True,\n",
    "    min_cells=3,\n",
    "    min_genes=20,\n",
    "    batch_size=128,\n",
    "    val_split=0.1,\n",
    "    use_gpu=True\n",
    ")\n",
    "\n"
   ]
  },
  {
   "cell_type": "code",
   "execution_count": null,
   "metadata": {},
   "outputs": [],
   "source": [
    "# Calculate top expressing surface marker proteins and create UMAP plots\n",
    "\n",
    "# First, let's compute UMAP embedding for the protein data\n",
    "print(\"Computing UMAP embedding for protein data...\")\n",
    "sc.tl.umap(adata_protein_train, random_state=42)\n",
    "\n",
    "# Calculate top expressing surface marker proteins\n",
    "print(\"Calculating top expressing surface marker proteins...\")\n",
    "\n",
    "# Get the top 10 most highly expressed proteins (surface markers)\n",
    "# We'll use mean expression across all cells as the metric\n",
    "protein_expression_means = np.array(adata_protein_train.X.mean(axis=0)).flatten()\n",
    "protein_names = adata_protein_train.var_names\n",
    "\n",
    "# Get indices of top 10 most expressed proteins\n",
    "top_10_indices = np.argsort(protein_expression_means)[-10:][::-1]  # Top 10, sorted descending\n",
    "top_10_proteins = protein_names[top_10_indices]\n",
    "top_10_expression = protein_expression_means[top_10_indices]\n",
    "\n",
    "print(\"Top 10 expressing surface marker proteins:\")\n",
    "for i, (protein, expr) in enumerate(zip(top_10_proteins, top_10_expression)):\n",
    "    print(f\"{i+1:2d}. {protein}: {expr:.4f}\")\n",
    "\n",
    "# Create UMAP plots for the top 10 surface marker proteins\n",
    "print(\"\\nCreating UMAP plots for top 10 surface marker proteins...\")\n",
    "\n",
    "# Set up the plotting parameters\n",
    "sc.settings.set_figure_params(dpi=80, facecolor='white')\n",
    "\n",
    "# Create a figure with subplots for the top 10 proteins\n",
    "fig, axes = plt.subplots(2, 5, figsize=(20, 8))\n",
    "axes = axes.flatten()\n",
    "\n",
    "# Plot each of the top 10 proteins\n",
    "for i, protein in enumerate(top_10_proteins):\n",
    "    ax = axes[i]\n",
    "    \n",
    "    # Create the UMAP plot for this protein\n",
    "    sc.pl.umap(adata_protein_train, \n",
    "               color=protein, \n",
    "               ax=ax, \n",
    "               show=False,\n",
    "               title=f'{protein}',\n",
    "               colorbar_loc='right',\n",
    "               frameon=False)\n",
    "    \n",
    "    # Customize the plot\n",
    "    ax.set_title(f'{protein}', fontsize=12, fontweight='bold')\n",
    "    ax.set_xlabel('UMAP 1', fontsize=10)\n",
    "    ax.set_ylabel('UMAP 2', fontsize=10)\n",
    "\n",
    "# Remove any unused subplots\n",
    "for i in range(len(top_10_proteins), len(axes)):\n",
    "    fig.delaxes(axes[i])\n",
    "\n",
    "plt.suptitle('UMAP Plots of Top 10 Expressing Surface Marker Proteins', \n",
    "             fontsize=16, fontweight='bold', y=0.95)\n",
    "plt.tight_layout()\n",
    "plt.show()\n",
    "\n",
    "# Also create individual plots for better visualization\n",
    "print(\"\\nCreating individual UMAP plots for detailed view...\")\n",
    "\n",
    "# Create individual plots for the top 5 proteins for better detail\n",
    "fig, axes = plt.subplots(1, 5, figsize=(25, 5))\n",
    "\n",
    "for i, protein in enumerate(top_10_proteins[:5]):\n",
    "    ax = axes[i]\n",
    "    \n",
    "    # Create the UMAP plot for this protein\n",
    "    sc.pl.umap(adata_protein_train, \n",
    "               color=protein, \n",
    "               ax=ax, \n",
    "               show=False,\n",
    "               title=f'{protein}',\n",
    "               colorbar_loc='right',\n",
    "               frameon=False,\n",
    "               size=20)\n",
    "    \n",
    "    # Customize the plot\n",
    "    ax.set_title(f'{protein}', fontsize=14, fontweight='bold')\n",
    "    ax.set_xlabel('UMAP 1', fontsize=12)\n",
    "    ax.set_ylabel('UMAP 2', fontsize=12)\n",
    "\n",
    "plt.suptitle('Detailed UMAP Plots of Top 5 Expressing Surface Marker Proteins', \n",
    "             fontsize=16, fontweight='bold', y=1.02)\n",
    "plt.tight_layout()\n",
    "plt.show()\n",
    "\n",
    "# Print summary statistics\n",
    "print(f\"\\nSummary:\")\n",
    "print(f\"Total number of proteins: {adata_protein_train.n_vars}\")\n",
    "print(f\"Total number of cells: {adata_protein_train.n_obs}\")\n",
    "print(f\"UMAP embedding computed with random_state=42\")\n",
    "print(f\"Top expressing protein: {top_10_proteins[0]} (mean expression: {top_10_expression[0]:.4f})\")\n",
    "print(f\"Lowest of top 10: {top_10_proteins[-1]} (mean expression: {top_10_expression[-1]:.4f})\")\n"
   ]
  },
  {
   "cell_type": "code",
   "execution_count": null,
   "metadata": {},
   "outputs": [],
   "source": []
  }
 ],
 "metadata": {
  "kernelspec": {
   "display_name": "scipennenv",
   "language": "python",
   "name": "scipennenv"
  },
  "language_info": {
   "codemirror_mode": {
    "name": "ipython",
    "version": 3
   },
   "file_extension": ".py",
   "mimetype": "text/x-python",
   "name": "python",
   "nbconvert_exporter": "python",
   "pygments_lexer": "ipython3",
   "version": "3.10.14"
  }
 },
 "nbformat": 4,
 "nbformat_minor": 2
}
