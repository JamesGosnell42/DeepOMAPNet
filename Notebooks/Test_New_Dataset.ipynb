{
 "cells": [
  {
   "cell_type": "markdown",
   "metadata": {},
   "source": [
    "# Testing Trained Models on New Single Cell Dataset\n",
    "\n",
    "This notebook demonstrates how to load new single cell data and test it using the trained RNA-to-ADT transformer mapping models.\n",
    "\n",
    "## Overview\n",
    "1. Load new single cell RNA data\n",
    "2. Load pre-trained models\n",
    "3. Preprocess new data\n",
    "4. Extract embeddings and make predictions\n",
    "5. Evaluate performance (if ground truth available)\n",
    "6. Visualize results\n"
   ]
  },
  {
   "cell_type": "markdown",
   "metadata": {},
   "source": [
    "## 1. Setup and Imports\n"
   ]
  },
  {
   "cell_type": "code",
   "execution_count": null,
   "metadata": {},
   "outputs": [
    {
     "name": "stdout",
     "output_type": "stream",
     "text": [
      "Added to Python path:\n",
      "- Parent directory: /projects/vanaja_lab/satya/DeepOMAPNet\n",
      "- Scripts directory: /projects/vanaja_lab/satya/DeepOMAPNet/scripts\n"
     ]
    }
   ],
   "source": [
    "import sys, os, importlib\n",
    "\n",
    "# --- Autoreload ---\n",
    "%load_ext autoreload\n",
    "%autoreload 2\n",
    "\n",
    "# --- Paths ---\n",
    "current_dir = os.getcwd()\n",
    "if 'Notebooks' in current_dir:\n",
    "    parent_dir = os.path.dirname(current_dir)\n",
    "    scripts_path = os.path.join(parent_dir, 'scripts')\n",
    "else:\n",
    "    parent_dir = current_dir\n",
    "    scripts_path = os.path.join(current_dir, 'scripts')\n",
    "\n",
    "if parent_dir not in sys.path:\n",
    "    sys.path.append(parent_dir)\n",
    "if scripts_path not in sys.path:\n",
    "    sys.path.append(scripts_path)\n",
    "\n",
    "print(\"Added to Python path:\")\n",
    "print(f\"- Parent directory: {parent_dir}\")\n",
    "print(f\"- Scripts directory: {scripts_path}\")\n"
   ]
  },
  {
   "cell_type": "code",
   "execution_count": null,
   "metadata": {},
   "outputs": [
    {
     "name": "stderr",
     "output_type": "stream",
     "text": [
      "/projects/vanaja_lab/satya/envs/scipennenv/lib/python3.10/site-packages/tqdm/auto.py:21: TqdmWarning: IProgress not found. Please update jupyter and ipywidgets. See https://ipywidgets.readthedocs.io/en/stable/user_install.html\n",
      "  from .autonotebook import tqdm as notebook_tqdm\n",
      "/projects/vanaja_lab/satya/envs/scipennenv/lib/python3.10/site-packages/anndata/utils.py:434: FutureWarning: Importing read_csv from `anndata` is deprecated. Import anndata.io.read_csv instead.\n",
      "  warnings.warn(msg, FutureWarning)\n",
      "/projects/vanaja_lab/satya/envs/scipennenv/lib/python3.10/site-packages/anndata/utils.py:434: FutureWarning: Importing read_excel from `anndata` is deprecated. Import anndata.io.read_excel instead.\n",
      "  warnings.warn(msg, FutureWarning)\n",
      "/projects/vanaja_lab/satya/envs/scipennenv/lib/python3.10/site-packages/anndata/utils.py:434: FutureWarning: Importing read_hdf from `anndata` is deprecated. Import anndata.io.read_hdf instead.\n",
      "  warnings.warn(msg, FutureWarning)\n",
      "/projects/vanaja_lab/satya/envs/scipennenv/lib/python3.10/site-packages/anndata/utils.py:434: FutureWarning: Importing read_loom from `anndata` is deprecated. Import anndata.io.read_loom instead.\n",
      "  warnings.warn(msg, FutureWarning)\n",
      "/projects/vanaja_lab/satya/envs/scipennenv/lib/python3.10/site-packages/anndata/utils.py:434: FutureWarning: Importing read_mtx from `anndata` is deprecated. Import anndata.io.read_mtx instead.\n",
      "  warnings.warn(msg, FutureWarning)\n",
      "/projects/vanaja_lab/satya/envs/scipennenv/lib/python3.10/site-packages/anndata/utils.py:434: FutureWarning: Importing read_text from `anndata` is deprecated. Import anndata.io.read_text instead.\n",
      "  warnings.warn(msg, FutureWarning)\n",
      "/projects/vanaja_lab/satya/envs/scipennenv/lib/python3.10/site-packages/anndata/utils.py:434: FutureWarning: Importing read_umi_tools from `anndata` is deprecated. Import anndata.io.read_umi_tools instead.\n",
      "  warnings.warn(msg, FutureWarning)\n"
     ]
    },
    {
     "name": "stdout",
     "output_type": "stream",
     "text": [
      "All imports successful!\n"
     ]
    }
   ],
   "source": [
    "# Import required libraries\n",
    "import torch\n",
    "import numpy as np\n",
    "import pandas as pd\n",
    "import scanpy as sc\n",
    "import matplotlib.pyplot as plt\n",
    "import seaborn as sns\n",
    "from sklearn.metrics import mean_squared_error, r2_score\n",
    "from scipy.stats import pearsonr, spearmanr\n",
    "from sklearn.neighbors import KNeighborsClassifier\n",
    "from sklearn.metrics import classification_report, confusion_matrix, accuracy_score\n",
    "import anndata as ad\n",
    "from datetime import datetime\n",
    "import json\n",
    "\n",
    "# Import custom modules\n",
    "import scripts.Embeddings_extract as Embeddings_extract\n",
    "import scripts.GATmodel as GATmodel\n",
    "import scripts.TransformerMap as TransformerMap\n",
    "import scripts.Predictions\n",
    "\n",
    "print(\"All imports successful!\")\n"
   ]
  },
  {
   "cell_type": "markdown",
   "metadata": {},
   "source": [
    "## 2. Load New Single Cell Data\n"
   ]
  },
  {
   "cell_type": "code",
   "execution_count": null,
   "metadata": {},
   "outputs": [
    {
     "data": {
      "text/plain": [
       "(AnnData object with n_obs × n_vars = 5997 × 27899\n",
       "     obs: 'Cell', 'NumberOfReads', 'AlignedToGenome', 'AlignedToTranscriptome', 'TranscriptomeUMIs', 'NumberOfGenes', 'CyclingScore', 'CyclingBinary', 'MutTranscripts', 'WtTranscripts', 'PredictionRF2', 'PredictionRefined', 'CellType', 'Score_HSC', 'Score_Prog', 'Score_GMP', 'Score_ProMono', 'Score_Mono', 'Score_cDC', 'Score_pDC', 'Score_earlyEry', 'Score_lateEry', 'Score_ProB', 'Score_B', 'Score_Plasma', 'Score_T', 'Score_CTL', 'Score_NK', 'sample_id', 'gsm_id', 'cell_barcode', 'cell_id', 'n_genes', 'total_counts'\n",
       "     var: 'gene_id', 'feature_type'\n",
       "     uns: 'dataset', 'description',)"
      ]
     },
     "execution_count": 3,
     "metadata": {},
     "output_type": "execute_result"
    }
   ],
   "source": [
    "# Load your new single cell dataset\n",
    "# Replace with your actual data path\n",
    "new_rna_path = \"/projects/vanaja_lab/satya/DeepOMAPNet/scripts/GSE116256_combined.h5ad\"\n",
    "\n",
    "# Fix the data loading - remove the comma\n",
    "GSE116256 = sc.read_h5ad(\"/projects/vanaja_lab/satya/DeepOMAPNet/scripts/GSE116256_combined.h5ad\")\n",
    "# Remove the comma that's causing the tuple\n",
    "\n",
    "# Now check the data\n",
    "print(f\"Data shape: {GSE116256.shape}\")\n",
    "print(f\"Number of observations: {GSE116256.n_obs}\")\n",
    "print(f\"Number of variables: {GSE116256.n_vars}\")\n",
    "\n",
    "# If you have real data, uncomment the lines above and comment out the sample data creation\n"
   ]
  },
  {
   "cell_type": "code",
   "execution_count": null,
   "metadata": {},
   "outputs": [],
   "source": [
    "from Predictions import ADTPredictor\n",
    "\n",
    "# Create predictor\n",
    "predictor = ADTPredictor(\n",
    "    individual_models_dir=\"/projects/vanaja_lab/satya/DeepOMAPNet/Notebooks/trained_models/individual_models_20250922_115253\"\n",
    ")\n",
    "\n",
    "# Make predictions\n",
    "print(\"Making predictions...\")\n",
    "rna_embeddings_np, predicted_adt_embeddings_np = predictor.predict_adt_embeddings(GSE116256)\n",
    "\n",
    "# Add predictions to obs\n",
    "adt_marker_names = [f'predicted_adt_{i}' for i in range(predicted_adt_embeddings_np.shape[1])]\n",
    "for i, marker_name in enumerate(adt_marker_names):\n",
    "    GSE116256.obs[marker_name] = predicted_adt_embeddings_np[:, i]\n",
    "\n",
    "# Add embeddings to obsm\n",
    "GSE116256.obsm['X_rna_embeddings'] = rna_embeddings_np\n",
    "GSE116256.obsm['X_predicted_adt_embeddings'] = predicted_adt_embeddings_np\n",
    "\n",
    "# Add metadata\n",
    "GSE116256.uns['prediction_info'] = {\n",
    "    'adt_embedding_dim': predicted_adt_embeddings_np.shape[1],\n",
    "    'adt_marker_names': adt_marker_names,\n",
    "    'prediction_timestamp': datetime.now().isoformat()\n",
    "}\n",
    "\n",
    "print(\"✅ Predictions completed successfully!\")\n",
    "print(f\"Data shape: {GSE116256.shape}\")\n",
    "print(f\"Number of predicted ADT features: {len(adt_marker_names)}\")\n",
    "print(f\"First 5 ADT features: {adt_marker_names[:5]}\")\n",
    "\n",
    "# Check the predictions\n",
    "print(f\"\\nSample predictions (first 5 cells, first 5 ADT features):\")\n",
    "sample_predictions = GSE116256.obs[adt_marker_names[:5]].head()\n",
    "print(sample_predictions.round(4))"
   ]
  },
  {
   "cell_type": "code",
   "execution_count": null,
   "metadata": {},
   "outputs": [],
   "source": []
  }
 ],
 "metadata": {
  "kernelspec": {
   "display_name": "sciPenn",
   "language": "python",
   "name": "myenv"
  },
  "language_info": {
   "codemirror_mode": {
    "name": "ipython",
    "version": 3
   },
   "file_extension": ".py",
   "mimetype": "text/x-python",
   "name": "python",
   "nbconvert_exporter": "python",
   "pygments_lexer": "ipython3",
   "version": "3.10.14"
  }
 },
 "nbformat": 4,
 "nbformat_minor": 4
}
